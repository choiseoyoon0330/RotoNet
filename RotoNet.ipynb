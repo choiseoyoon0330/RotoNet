{
  "nbformat": 4,
  "nbformat_minor": 0,
  "metadata": {
    "colab": {
      "provenance": [],
      "gpuType": "T4"
    },
    "kernelspec": {
      "name": "python3",
      "display_name": "Python 3"
    },
    "language_info": {
      "name": "python"
    },
    "accelerator": "GPU"
  },
  "cells": [
    {
      "cell_type": "code",
      "execution_count": null,
      "metadata": {
        "id": "OLMxKE8j2qUN"
      },
      "outputs": [],
      "source": [
        "from google.colab import drive\n",
        "drive.mount('/content/drive')"
      ]
    },
    {
      "cell_type": "code",
      "source": [
        "%cd '/content/drive/MyDrive/RotoNet'"
      ],
      "metadata": {
        "id": "jOJgUEsd2430"
      },
      "execution_count": null,
      "outputs": []
    },
    {
      "cell_type": "code",
      "source": [
        "!git clone https://github.com/yangchris11/samurai.git"
      ],
      "metadata": {
        "id": "aWSTl--23GPj"
      },
      "execution_count": null,
      "outputs": []
    },
    {
      "cell_type": "code",
      "source": [
        "%cd drive/MyDrive/RotoNet/samurai\n",
        "!python scripts/demo.py --video_path data/input.mp4 --txt_path data/bbox.txt"
      ],
      "metadata": {
        "id": "PBpxYbHcj4t4"
      },
      "execution_count": null,
      "outputs": []
    },
    {
      "cell_type": "code",
      "source": [
        "import cv2\n",
        "import numpy as np\n",
        "import os\n",
        "from google.colab import files\n",
        "\n",
        "video_path = '/content/drive/MyDrive/RotoNet/samurai/data/input.mp4'\n",
        "mask_dir = '/content/drive/MyDrive/RotoNet/samurai/masks'\n",
        "output_path = '/content/drive/MyDrive/RotoNet/samurai/data/mask.mp4'\n",
        "\n",
        "cap = cv2.VideoCapture(video_path)\n",
        "frame_width = int(cap.get(cv2.CAP_PROP_FRAME_WIDTH))\n",
        "frame_height = int(cap.get(cv2.CAP_PROP_FRAME_HEIGHT))\n",
        "fps = cap.get(cv2.CAP_PROP_FPS)\n",
        "total_frames = int(cap.get(cv2.CAP_PROP_FRAME_COUNT))\n",
        "fourcc = cv2.VideoWriter_fourcc(*'mp4v')\n",
        "out = cv2.VideoWriter(output_path, fourcc, fps, (frame_width, frame_height))\n",
        "\n",
        "for i in range(total_frames):\n",
        "    ret, frame = cap.read()\n",
        "    if not ret:\n",
        "        break\n",
        "    mask_path = os.path.join(mask_dir, f'frame{i:03d}_obj0.png')\n",
        "    if not os.path.exists(mask_path):\n",
        "        print(f'Mask not found for frame {i}, skipping...')\n",
        "        continue\n",
        "\n",
        "    mask = cv2.imread(mask_path, cv2.IMREAD_GRAYSCALE)\n",
        "    mask = cv2.resize(mask, (frame_width, frame_height))\n",
        "    mask = mask // 255\n",
        "    mask = np.repeat(mask[:, :, np.newaxis], 3, axis=2)\n",
        "    object_only = frame * mask\n",
        "    out.write(object_only.astype(np.uint8))\n",
        "\n",
        "cap.release()\n",
        "out.release()\n",
        "\n",
        "files.download(output_path)\n"
      ],
      "metadata": {
        "id": "ymRH3fgd_A3q"
      },
      "execution_count": null,
      "outputs": []
    },
    {
      "cell_type": "code",
      "source": [
        "!git clone https://github.com/westgarthb/style-transfer-video-processor.git -q"
      ],
      "metadata": {
        "id": "xSM9xJ3CXokF"
      },
      "execution_count": null,
      "outputs": []
    },
    {
      "cell_type": "code",
      "source": [
        "%cd '/content/drive/MyDrive/RotoNet/style-transfer-video-processor'"
      ],
      "metadata": {
        "id": "TYckOZgxXtLO"
      },
      "execution_count": null,
      "outputs": []
    },
    {
      "cell_type": "code",
      "source": [
        "!pip -q install -r requirements.txt 2> /dev/null"
      ],
      "metadata": {
        "id": "_ZdLim9nYEcO"
      },
      "execution_count": null,
      "outputs": []
    },
    {
      "cell_type": "code",
      "source": [
        "from google.colab import files\n",
        "uploaded_file = None"
      ],
      "metadata": {
        "id": "nRjGSVhlYNPp"
      },
      "execution_count": null,
      "outputs": []
    },
    {
      "cell_type": "code",
      "source": [
        "uploaded_file = files.upload()"
      ],
      "metadata": {
        "id": "kmB615hAYxn4"
      },
      "execution_count": null,
      "outputs": []
    },
    {
      "cell_type": "code",
      "source": [
        "class Config:\n",
        "    ROOT_PATH = '.'\n",
        "    FRAME_HEIGHT = 368\n",
        "    CLEAR_INPUT_FRAME_CACHE = True\n",
        "    INPUT_FPS = 20\n",
        "    INPUT_VIDEO_NAME = 'input_vid.mov'\n",
        "    if uploaded_file:\n",
        "      INPUT_VIDEO_NAME = list(uploaded_file.keys())[0]\n",
        "    INPUT_VIDEO_PATH = f'{ROOT_PATH}/{INPUT_VIDEO_NAME}'\n",
        "    INPUT_FRAME_DIRECTORY = f'{ROOT_PATH}/input_frames'\n",
        "    INPUT_FRAME_FILE = '{:0>4d}_frame.png'\n",
        "    INPUT_FRAME_PATH = f'{INPUT_FRAME_DIRECTORY}/{INPUT_FRAME_FILE}'\n",
        "\n",
        "    STYLE_REF_DIRECTORY = f'{ROOT_PATH}/style_ref'\n",
        "    STYLE_SEQUENCE = [0, 1, 2]\n",
        "\n",
        "    OUTPUT_FPS = 20\n",
        "    OUTPUT_VIDEO_NAME = 'output_video.mp4'\n",
        "    OUTPUT_VIDEO_PATH = f'{ROOT_PATH}/{OUTPUT_VIDEO_NAME}'\n",
        "    OUTPUT_FRAME_DIRECTORY = f'{ROOT_PATH}/output_frames'\n",
        "    OUTPUT_FRAME_FILE = '{:0>4d}_frame.png'\n",
        "    OUTPUT_FRAME_PATH = f'{OUTPUT_FRAME_DIRECTORY}/{OUTPUT_FRAME_FILE}'\n",
        "\n",
        "    MASK_FRAME_DIRECTORY = f'{ROOT_PATH}/masks'\n",
        "\n",
        "    GHOST_FRAME_TRANSPARENCY = 0.1\n",
        "    PRESERVE_COLORS = False\n",
        "\n",
        "    TENSORFLOW_CACHE_DIRECTORY = f'{ROOT_PATH}/tensorflow_cache'\n",
        "    TENSORFLOW_HUB_HANDLE = 'https://tfhub.dev/google/magenta/arbitrary-image-stylization-v1-256/2'\n"
      ],
      "metadata": {
        "id": "L_xgoq8QY37z"
      },
      "execution_count": null,
      "outputs": []
    },
    {
      "cell_type": "code",
      "source": [
        "import os\n",
        "import re\n",
        "\n",
        "folder_path = '/content/drive/MyDrive/RotoNet/style-transfer-video-processor/masks'\n",
        "\n",
        "pattern = re.compile(r'frame(\\d+)_obj\\d+\\.png')\n",
        "\n",
        "for filename in os.listdir(folder_path):\n",
        "    match = pattern.match(filename)\n",
        "    if match:\n",
        "        num_str = match.group(1)\n",
        "        new_name = f\"{int(num_str):04d}_frame.png\"\n",
        "        old_path = os.path.join(folder_path, filename)\n",
        "        new_path = os.path.join(folder_path, new_name)\n",
        "        print(f\"Rename: {filename} -> {new_name}\")\n",
        "        os.rename(old_path, new_path)\n"
      ],
      "metadata": {
        "id": "mGKOEf5IVIjk"
      },
      "execution_count": null,
      "outputs": []
    },
    {
      "cell_type": "code",
      "source": [
        "from style_frames import StyleFrame\n",
        "StyleFrame(Config).run()"
      ],
      "metadata": {
        "id": "hajzqq_1Y6wR"
      },
      "execution_count": null,
      "outputs": []
    },
    {
      "cell_type": "code",
      "source": [
        "files.download('output_video.mp4')"
      ],
      "metadata": {
        "colab": {
          "base_uri": "https://localhost:8080/",
          "height": 17
        },
        "id": "GO5kABZhY8bE",
        "outputId": "3bcb2793-ea86-4753-cc36-a812c14a8d46"
      },
      "execution_count": null,
      "outputs": [
        {
          "output_type": "display_data",
          "data": {
            "text/plain": [
              "<IPython.core.display.Javascript object>"
            ],
            "application/javascript": [
              "\n",
              "    async function download(id, filename, size) {\n",
              "      if (!google.colab.kernel.accessAllowed) {\n",
              "        return;\n",
              "      }\n",
              "      const div = document.createElement('div');\n",
              "      const label = document.createElement('label');\n",
              "      label.textContent = `Downloading \"${filename}\": `;\n",
              "      div.appendChild(label);\n",
              "      const progress = document.createElement('progress');\n",
              "      progress.max = size;\n",
              "      div.appendChild(progress);\n",
              "      document.body.appendChild(div);\n",
              "\n",
              "      const buffers = [];\n",
              "      let downloaded = 0;\n",
              "\n",
              "      const channel = await google.colab.kernel.comms.open(id);\n",
              "      // Send a message to notify the kernel that we're ready.\n",
              "      channel.send({})\n",
              "\n",
              "      for await (const message of channel.messages) {\n",
              "        // Send a message to notify the kernel that we're ready.\n",
              "        channel.send({})\n",
              "        if (message.buffers) {\n",
              "          for (const buffer of message.buffers) {\n",
              "            buffers.push(buffer);\n",
              "            downloaded += buffer.byteLength;\n",
              "            progress.value = downloaded;\n",
              "          }\n",
              "        }\n",
              "      }\n",
              "      const blob = new Blob(buffers, {type: 'application/binary'});\n",
              "      const a = document.createElement('a');\n",
              "      a.href = window.URL.createObjectURL(blob);\n",
              "      a.download = filename;\n",
              "      div.appendChild(a);\n",
              "      a.click();\n",
              "      div.remove();\n",
              "    }\n",
              "  "
            ]
          },
          "metadata": {}
        },
        {
          "output_type": "display_data",
          "data": {
            "text/plain": [
              "<IPython.core.display.Javascript object>"
            ],
            "application/javascript": [
              "download(\"download_3d458d8b-8ffc-4d9a-a506-c197b94ba7a3\", \"output_video.mp4\", 5838494)"
            ]
          },
          "metadata": {}
        }
      ]
    }
  ]
}